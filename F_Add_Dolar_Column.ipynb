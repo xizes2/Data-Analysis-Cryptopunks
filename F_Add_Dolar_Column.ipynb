{
 "cells": [
  {
   "cell_type": "code",
   "execution_count": 1,
   "metadata": {
    "ExecuteTime": {
     "end_time": "2021-09-29T07:30:20.161443Z",
     "start_time": "2021-09-29T07:30:17.019890Z"
    }
   },
   "outputs": [],
   "source": [
    "import pandas as pd"
   ]
  },
  {
   "cell_type": "code",
   "execution_count": 12,
   "metadata": {
    "ExecuteTime": {
     "end_time": "2021-09-29T07:54:38.743398Z",
     "start_time": "2021-09-29T07:54:38.268186Z"
    }
   },
   "outputs": [],
   "source": [
    "df_trans = pd.read_csv('transactions_ready.csv')"
   ]
  },
  {
   "cell_type": "code",
   "execution_count": 107,
   "metadata": {
    "ExecuteTime": {
     "end_time": "2021-09-29T09:35:50.448541Z",
     "start_time": "2021-09-29T09:35:50.441542Z"
    }
   },
   "outputs": [],
   "source": [
    "#df_trans.head()"
   ]
  },
  {
   "cell_type": "code",
   "execution_count": 26,
   "metadata": {
    "ExecuteTime": {
     "end_time": "2021-09-29T08:00:17.862557Z",
     "start_time": "2021-09-29T08:00:17.735532Z"
    }
   },
   "outputs": [],
   "source": [
    "df_eth_us = pd.read_csv('ETH_historical_prices_2017_2021.csv')"
   ]
  },
  {
   "cell_type": "code",
   "execution_count": 108,
   "metadata": {
    "ExecuteTime": {
     "end_time": "2021-09-29T09:35:59.239138Z",
     "start_time": "2021-09-29T09:35:59.221136Z"
    }
   },
   "outputs": [],
   "source": [
    "#df_eth_us[df_eth_us['Date'] == '2017-06-24']"
   ]
  },
  {
   "cell_type": "code",
   "execution_count": 37,
   "metadata": {
    "ExecuteTime": {
     "end_time": "2021-09-29T08:31:40.337185Z",
     "start_time": "2021-09-29T08:31:40.289174Z"
    }
   },
   "outputs": [],
   "source": [
    "list_dates = df_trans['Date'].unique()"
   ]
  },
  {
   "cell_type": "code",
   "execution_count": 38,
   "metadata": {
    "ExecuteTime": {
     "end_time": "2021-09-29T08:31:42.495494Z",
     "start_time": "2021-09-29T08:31:42.476490Z"
    }
   },
   "outputs": [
    {
     "data": {
      "text/plain": [
       "1429"
      ]
     },
     "execution_count": 38,
     "metadata": {},
     "output_type": "execute_result"
    }
   ],
   "source": [
    "len(list_dates)"
   ]
  },
  {
   "cell_type": "code",
   "execution_count": 40,
   "metadata": {
    "ExecuteTime": {
     "end_time": "2021-09-29T08:37:02.911644Z",
     "start_time": "2021-09-29T08:37:01.342247Z"
    }
   },
   "outputs": [],
   "source": [
    "dict_date_price_eth = {'Date_ETH':[], 'Price_ETH':[]}\n",
    "\n",
    "for i in list_dates:\n",
    "    #print(i)\n",
    "    for it, price in zip(df_eth_us['Date'], df_eth_us['Adj Close']):\n",
    "        if i == it:\n",
    "            #print(i, it, price)\n",
    "            dict_date_price_eth['Date_ETH'].append(it)\n",
    "            dict_date_price_eth['Price_ETH'].append(price)            "
   ]
  },
  {
   "cell_type": "code",
   "execution_count": 42,
   "metadata": {
    "ExecuteTime": {
     "end_time": "2021-09-29T08:37:37.479376Z",
     "start_time": "2021-09-29T08:37:37.425363Z"
    }
   },
   "outputs": [
    {
     "data": {
      "text/html": [
       "<div>\n",
       "<style scoped>\n",
       "    .dataframe tbody tr th:only-of-type {\n",
       "        vertical-align: middle;\n",
       "    }\n",
       "\n",
       "    .dataframe tbody tr th {\n",
       "        vertical-align: top;\n",
       "    }\n",
       "\n",
       "    .dataframe thead th {\n",
       "        text-align: right;\n",
       "    }\n",
       "</style>\n",
       "<table border=\"1\" class=\"dataframe\">\n",
       "  <thead>\n",
       "    <tr style=\"text-align: right;\">\n",
       "      <th></th>\n",
       "      <th>Date_ETH</th>\n",
       "      <th>Price_ETH</th>\n",
       "    </tr>\n",
       "  </thead>\n",
       "  <tbody>\n",
       "    <tr>\n",
       "      <th>0</th>\n",
       "      <td>2021-08-13</td>\n",
       "      <td>3322.211670</td>\n",
       "    </tr>\n",
       "    <tr>\n",
       "      <th>1</th>\n",
       "      <td>2021-08-12</td>\n",
       "      <td>3043.414307</td>\n",
       "    </tr>\n",
       "    <tr>\n",
       "      <th>2</th>\n",
       "      <td>2020-11-30</td>\n",
       "      <td>614.842529</td>\n",
       "    </tr>\n",
       "    <tr>\n",
       "      <th>3</th>\n",
       "      <td>2020-11-25</td>\n",
       "      <td>570.686646</td>\n",
       "    </tr>\n",
       "    <tr>\n",
       "      <th>4</th>\n",
       "      <td>2020-11-23</td>\n",
       "      <td>608.454041</td>\n",
       "    </tr>\n",
       "    <tr>\n",
       "      <th>...</th>\n",
       "      <td>...</td>\n",
       "      <td>...</td>\n",
       "    </tr>\n",
       "    <tr>\n",
       "      <th>1423</th>\n",
       "      <td>2020-03-28</td>\n",
       "      <td>130.986496</td>\n",
       "    </tr>\n",
       "    <tr>\n",
       "      <th>1424</th>\n",
       "      <td>2018-10-16</td>\n",
       "      <td>210.119995</td>\n",
       "    </tr>\n",
       "    <tr>\n",
       "      <th>1425</th>\n",
       "      <td>2020-04-01</td>\n",
       "      <td>135.634552</td>\n",
       "    </tr>\n",
       "    <tr>\n",
       "      <th>1426</th>\n",
       "      <td>2018-08-21</td>\n",
       "      <td>281.944000</td>\n",
       "    </tr>\n",
       "    <tr>\n",
       "      <th>1427</th>\n",
       "      <td>2019-08-31</td>\n",
       "      <td>172.469788</td>\n",
       "    </tr>\n",
       "  </tbody>\n",
       "</table>\n",
       "<p>1428 rows × 2 columns</p>\n",
       "</div>"
      ],
      "text/plain": [
       "        Date_ETH    Price_ETH\n",
       "0     2021-08-13  3322.211670\n",
       "1     2021-08-12  3043.414307\n",
       "2     2020-11-30   614.842529\n",
       "3     2020-11-25   570.686646\n",
       "4     2020-11-23   608.454041\n",
       "...          ...          ...\n",
       "1423  2020-03-28   130.986496\n",
       "1424  2018-10-16   210.119995\n",
       "1425  2020-04-01   135.634552\n",
       "1426  2018-08-21   281.944000\n",
       "1427  2019-08-31   172.469788\n",
       "\n",
       "[1428 rows x 2 columns]"
      ]
     },
     "execution_count": 42,
     "metadata": {},
     "output_type": "execute_result"
    }
   ],
   "source": [
    "df_date_price_eth = pd.DataFrame(dict_date_price_eth)\n",
    "df_date_price_eth"
   ]
  },
  {
   "cell_type": "code",
   "execution_count": 65,
   "metadata": {
    "ExecuteTime": {
     "end_time": "2021-09-29T08:57:49.208662Z",
     "start_time": "2021-09-29T08:57:49.196653Z"
    }
   },
   "outputs": [],
   "source": [
    "def datePriceETH(date):\n",
    "    for d, price in zip(df_date_price_eth['Date_ETH'], df_date_price_eth['Price_ETH']):\n",
    "        \n",
    "        if date == d:\n",
    "            return price\n",
    "        else:\n",
    "            pass\n",
    "        "
   ]
  },
  {
   "cell_type": "code",
   "execution_count": 66,
   "metadata": {
    "ExecuteTime": {
     "end_time": "2021-09-29T08:58:18.427454Z",
     "start_time": "2021-09-29T08:57:51.905142Z"
    }
   },
   "outputs": [],
   "source": [
    "df_trans['ETH x U$'] = df_trans['Date'].apply(lambda x: datePriceETH(x))"
   ]
  },
  {
   "cell_type": "code",
   "execution_count": 80,
   "metadata": {
    "ExecuteTime": {
     "end_time": "2021-09-29T09:03:33.701818Z",
     "start_time": "2021-09-29T09:03:33.629799Z"
    }
   },
   "outputs": [
    {
     "data": {
      "text/html": [
       "<div>\n",
       "<style scoped>\n",
       "    .dataframe tbody tr th:only-of-type {\n",
       "        vertical-align: middle;\n",
       "    }\n",
       "\n",
       "    .dataframe tbody tr th {\n",
       "        vertical-align: top;\n",
       "    }\n",
       "\n",
       "    .dataframe thead th {\n",
       "        text-align: right;\n",
       "    }\n",
       "</style>\n",
       "<table border=\"1\" class=\"dataframe\">\n",
       "  <thead>\n",
       "    <tr style=\"text-align: right;\">\n",
       "      <th></th>\n",
       "      <th>Trans_id</th>\n",
       "      <th>Punk_id</th>\n",
       "      <th>Trans_Type</th>\n",
       "      <th>From</th>\n",
       "      <th>To</th>\n",
       "      <th>Amount</th>\n",
       "      <th>Date</th>\n",
       "      <th>ETH x U$</th>\n",
       "    </tr>\n",
       "  </thead>\n",
       "  <tbody>\n",
       "    <tr>\n",
       "      <th>0</th>\n",
       "      <td>0xdd0b90</td>\n",
       "      <td>1</td>\n",
       "      <td>Bid withdrawn</td>\n",
       "      <td>0xE1E492</td>\n",
       "      <td>NaN</td>\n",
       "      <td>10.00</td>\n",
       "      <td>2021-08-13</td>\n",
       "      <td>3322.211670</td>\n",
       "    </tr>\n",
       "    <tr>\n",
       "      <th>1</th>\n",
       "      <td>0x919480</td>\n",
       "      <td>1</td>\n",
       "      <td>Bid</td>\n",
       "      <td>0xE1E492</td>\n",
       "      <td>NaN</td>\n",
       "      <td>10.00</td>\n",
       "      <td>2021-08-12</td>\n",
       "      <td>3043.414307</td>\n",
       "    </tr>\n",
       "    <tr>\n",
       "      <th>2</th>\n",
       "      <td>0x9ac3a7</td>\n",
       "      <td>1</td>\n",
       "      <td>Transfer</td>\n",
       "      <td>0xcf6165</td>\n",
       "      <td>0xb88f61</td>\n",
       "      <td>0.00</td>\n",
       "      <td>2020-11-30</td>\n",
       "      <td>614.842529</td>\n",
       "    </tr>\n",
       "    <tr>\n",
       "      <th>3</th>\n",
       "      <td>0xf4af55</td>\n",
       "      <td>1</td>\n",
       "      <td>Sold</td>\n",
       "      <td>0xeE3766</td>\n",
       "      <td>0xcf6165</td>\n",
       "      <td>60.00</td>\n",
       "      <td>2020-11-30</td>\n",
       "      <td>614.842529</td>\n",
       "    </tr>\n",
       "    <tr>\n",
       "      <th>4</th>\n",
       "      <td>0x7399ca</td>\n",
       "      <td>1</td>\n",
       "      <td>Bid</td>\n",
       "      <td>0xcf6165</td>\n",
       "      <td>NaN</td>\n",
       "      <td>60.00</td>\n",
       "      <td>2020-11-30</td>\n",
       "      <td>614.842529</td>\n",
       "    </tr>\n",
       "    <tr>\n",
       "      <th>...</th>\n",
       "      <td>...</td>\n",
       "      <td>...</td>\n",
       "      <td>...</td>\n",
       "      <td>...</td>\n",
       "      <td>...</td>\n",
       "      <td>...</td>\n",
       "      <td>...</td>\n",
       "      <td>...</td>\n",
       "    </tr>\n",
       "    <tr>\n",
       "      <th>166427</th>\n",
       "      <td>0xdfbce0</td>\n",
       "      <td>0</td>\n",
       "      <td>Bid</td>\n",
       "      <td>0x717403</td>\n",
       "      <td>NaN</td>\n",
       "      <td>0.05</td>\n",
       "      <td>2017-06-25</td>\n",
       "      <td>303.247986</td>\n",
       "    </tr>\n",
       "    <tr>\n",
       "      <th>166428</th>\n",
       "      <td>0x24893e</td>\n",
       "      <td>0</td>\n",
       "      <td>Sold</td>\n",
       "      <td>0xC352B5</td>\n",
       "      <td>0x00d7c9</td>\n",
       "      <td>0.98</td>\n",
       "      <td>2017-06-24</td>\n",
       "      <td>323.696014</td>\n",
       "    </tr>\n",
       "    <tr>\n",
       "      <th>166429</th>\n",
       "      <td>0xc29572</td>\n",
       "      <td>0</td>\n",
       "      <td>Bid</td>\n",
       "      <td>0x00d7C9</td>\n",
       "      <td>NaN</td>\n",
       "      <td>0.98</td>\n",
       "      <td>2017-06-24</td>\n",
       "      <td>323.696014</td>\n",
       "    </tr>\n",
       "    <tr>\n",
       "      <th>166430</th>\n",
       "      <td>0xbe1685</td>\n",
       "      <td>0</td>\n",
       "      <td>Bid</td>\n",
       "      <td>0x948a10</td>\n",
       "      <td>NaN</td>\n",
       "      <td>0.67</td>\n",
       "      <td>2017-06-24</td>\n",
       "      <td>323.696014</td>\n",
       "    </tr>\n",
       "    <tr>\n",
       "      <th>166431</th>\n",
       "      <td>0xdcc2d3</td>\n",
       "      <td>0</td>\n",
       "      <td>Claimed</td>\n",
       "      <td>NaN</td>\n",
       "      <td>0xc352b5</td>\n",
       "      <td>0.00</td>\n",
       "      <td>2017-06-23</td>\n",
       "      <td>341.739014</td>\n",
       "    </tr>\n",
       "  </tbody>\n",
       "</table>\n",
       "<p>166432 rows × 8 columns</p>\n",
       "</div>"
      ],
      "text/plain": [
       "        Trans_id  Punk_id     Trans_Type      From        To  Amount  \\\n",
       "0       0xdd0b90        1  Bid withdrawn  0xE1E492       NaN   10.00   \n",
       "1       0x919480        1            Bid  0xE1E492       NaN   10.00   \n",
       "2       0x9ac3a7        1       Transfer  0xcf6165  0xb88f61    0.00   \n",
       "3       0xf4af55        1           Sold  0xeE3766  0xcf6165   60.00   \n",
       "4       0x7399ca        1            Bid  0xcf6165       NaN   60.00   \n",
       "...          ...      ...            ...       ...       ...     ...   \n",
       "166427  0xdfbce0        0            Bid  0x717403       NaN    0.05   \n",
       "166428  0x24893e        0           Sold  0xC352B5  0x00d7c9    0.98   \n",
       "166429  0xc29572        0            Bid  0x00d7C9       NaN    0.98   \n",
       "166430  0xbe1685        0            Bid  0x948a10       NaN    0.67   \n",
       "166431  0xdcc2d3        0        Claimed       NaN  0xc352b5    0.00   \n",
       "\n",
       "              Date     ETH x U$  \n",
       "0       2021-08-13  3322.211670  \n",
       "1       2021-08-12  3043.414307  \n",
       "2       2020-11-30   614.842529  \n",
       "3       2020-11-30   614.842529  \n",
       "4       2020-11-30   614.842529  \n",
       "...            ...          ...  \n",
       "166427  2017-06-25   303.247986  \n",
       "166428  2017-06-24   323.696014  \n",
       "166429  2017-06-24   323.696014  \n",
       "166430  2017-06-24   323.696014  \n",
       "166431  2017-06-23   341.739014  \n",
       "\n",
       "[166432 rows x 8 columns]"
      ]
     },
     "execution_count": 80,
     "metadata": {},
     "output_type": "execute_result"
    }
   ],
   "source": [
    "df_trans"
   ]
  },
  {
   "cell_type": "code",
   "execution_count": 92,
   "metadata": {
    "ExecuteTime": {
     "end_time": "2021-09-29T09:12:15.550934Z",
     "start_time": "2021-09-29T09:12:15.509937Z"
    }
   },
   "outputs": [],
   "source": [
    "df_trans['Total U$'] = df_trans['ETH x U$'] * df_trans['Amount']"
   ]
  },
  {
   "cell_type": "code",
   "execution_count": 99,
   "metadata": {
    "ExecuteTime": {
     "end_time": "2021-09-29T09:27:58.839080Z",
     "start_time": "2021-09-29T09:27:58.395990Z"
    }
   },
   "outputs": [],
   "source": [
    "df_trans = df_trans[['Trans_id', 'Punk_id', 'Trans_Type', 'From', 'To', 'Amount', 'Total U$', 'Date','ETH x U$']]"
   ]
  },
  {
   "cell_type": "code",
   "execution_count": 101,
   "metadata": {
    "ExecuteTime": {
     "end_time": "2021-09-29T09:28:38.795107Z",
     "start_time": "2021-09-29T09:28:38.759094Z"
    }
   },
   "outputs": [],
   "source": [
    "df_trans_final = df_trans.copy()"
   ]
  },
  {
   "cell_type": "code",
   "execution_count": 104,
   "metadata": {
    "ExecuteTime": {
     "end_time": "2021-09-29T09:29:27.089805Z",
     "start_time": "2021-09-29T09:29:27.035795Z"
    }
   },
   "outputs": [],
   "source": [
    "df_trans_final.drop('ETH x U$', axis=1, inplace=True)"
   ]
  },
  {
   "cell_type": "code",
   "execution_count": 105,
   "metadata": {
    "ExecuteTime": {
     "end_time": "2021-09-29T09:29:31.460719Z",
     "start_time": "2021-09-29T09:29:31.378528Z"
    }
   },
   "outputs": [
    {
     "data": {
      "text/html": [
       "<div>\n",
       "<style scoped>\n",
       "    .dataframe tbody tr th:only-of-type {\n",
       "        vertical-align: middle;\n",
       "    }\n",
       "\n",
       "    .dataframe tbody tr th {\n",
       "        vertical-align: top;\n",
       "    }\n",
       "\n",
       "    .dataframe thead th {\n",
       "        text-align: right;\n",
       "    }\n",
       "</style>\n",
       "<table border=\"1\" class=\"dataframe\">\n",
       "  <thead>\n",
       "    <tr style=\"text-align: right;\">\n",
       "      <th></th>\n",
       "      <th>Trans_id</th>\n",
       "      <th>Punk_id</th>\n",
       "      <th>Trans_Type</th>\n",
       "      <th>From</th>\n",
       "      <th>To</th>\n",
       "      <th>Amount</th>\n",
       "      <th>Total U$</th>\n",
       "      <th>Date</th>\n",
       "    </tr>\n",
       "  </thead>\n",
       "  <tbody>\n",
       "    <tr>\n",
       "      <th>0</th>\n",
       "      <td>0xdd0b90</td>\n",
       "      <td>1</td>\n",
       "      <td>Bid withdrawn</td>\n",
       "      <td>0xE1E492</td>\n",
       "      <td>NaN</td>\n",
       "      <td>10.00</td>\n",
       "      <td>33222.116700</td>\n",
       "      <td>2021-08-13</td>\n",
       "    </tr>\n",
       "    <tr>\n",
       "      <th>1</th>\n",
       "      <td>0x919480</td>\n",
       "      <td>1</td>\n",
       "      <td>Bid</td>\n",
       "      <td>0xE1E492</td>\n",
       "      <td>NaN</td>\n",
       "      <td>10.00</td>\n",
       "      <td>30434.143070</td>\n",
       "      <td>2021-08-12</td>\n",
       "    </tr>\n",
       "    <tr>\n",
       "      <th>2</th>\n",
       "      <td>0x9ac3a7</td>\n",
       "      <td>1</td>\n",
       "      <td>Transfer</td>\n",
       "      <td>0xcf6165</td>\n",
       "      <td>0xb88f61</td>\n",
       "      <td>0.00</td>\n",
       "      <td>0.000000</td>\n",
       "      <td>2020-11-30</td>\n",
       "    </tr>\n",
       "    <tr>\n",
       "      <th>3</th>\n",
       "      <td>0xf4af55</td>\n",
       "      <td>1</td>\n",
       "      <td>Sold</td>\n",
       "      <td>0xeE3766</td>\n",
       "      <td>0xcf6165</td>\n",
       "      <td>60.00</td>\n",
       "      <td>36890.551740</td>\n",
       "      <td>2020-11-30</td>\n",
       "    </tr>\n",
       "    <tr>\n",
       "      <th>4</th>\n",
       "      <td>0x7399ca</td>\n",
       "      <td>1</td>\n",
       "      <td>Bid</td>\n",
       "      <td>0xcf6165</td>\n",
       "      <td>NaN</td>\n",
       "      <td>60.00</td>\n",
       "      <td>36890.551740</td>\n",
       "      <td>2020-11-30</td>\n",
       "    </tr>\n",
       "    <tr>\n",
       "      <th>...</th>\n",
       "      <td>...</td>\n",
       "      <td>...</td>\n",
       "      <td>...</td>\n",
       "      <td>...</td>\n",
       "      <td>...</td>\n",
       "      <td>...</td>\n",
       "      <td>...</td>\n",
       "      <td>...</td>\n",
       "    </tr>\n",
       "    <tr>\n",
       "      <th>166427</th>\n",
       "      <td>0xdfbce0</td>\n",
       "      <td>0</td>\n",
       "      <td>Bid</td>\n",
       "      <td>0x717403</td>\n",
       "      <td>NaN</td>\n",
       "      <td>0.05</td>\n",
       "      <td>15.162399</td>\n",
       "      <td>2017-06-25</td>\n",
       "    </tr>\n",
       "    <tr>\n",
       "      <th>166428</th>\n",
       "      <td>0x24893e</td>\n",
       "      <td>0</td>\n",
       "      <td>Sold</td>\n",
       "      <td>0xC352B5</td>\n",
       "      <td>0x00d7c9</td>\n",
       "      <td>0.98</td>\n",
       "      <td>317.222094</td>\n",
       "      <td>2017-06-24</td>\n",
       "    </tr>\n",
       "    <tr>\n",
       "      <th>166429</th>\n",
       "      <td>0xc29572</td>\n",
       "      <td>0</td>\n",
       "      <td>Bid</td>\n",
       "      <td>0x00d7C9</td>\n",
       "      <td>NaN</td>\n",
       "      <td>0.98</td>\n",
       "      <td>317.222094</td>\n",
       "      <td>2017-06-24</td>\n",
       "    </tr>\n",
       "    <tr>\n",
       "      <th>166430</th>\n",
       "      <td>0xbe1685</td>\n",
       "      <td>0</td>\n",
       "      <td>Bid</td>\n",
       "      <td>0x948a10</td>\n",
       "      <td>NaN</td>\n",
       "      <td>0.67</td>\n",
       "      <td>216.876329</td>\n",
       "      <td>2017-06-24</td>\n",
       "    </tr>\n",
       "    <tr>\n",
       "      <th>166431</th>\n",
       "      <td>0xdcc2d3</td>\n",
       "      <td>0</td>\n",
       "      <td>Claimed</td>\n",
       "      <td>NaN</td>\n",
       "      <td>0xc352b5</td>\n",
       "      <td>0.00</td>\n",
       "      <td>0.000000</td>\n",
       "      <td>2017-06-23</td>\n",
       "    </tr>\n",
       "  </tbody>\n",
       "</table>\n",
       "<p>166432 rows × 8 columns</p>\n",
       "</div>"
      ],
      "text/plain": [
       "        Trans_id  Punk_id     Trans_Type      From        To  Amount  \\\n",
       "0       0xdd0b90        1  Bid withdrawn  0xE1E492       NaN   10.00   \n",
       "1       0x919480        1            Bid  0xE1E492       NaN   10.00   \n",
       "2       0x9ac3a7        1       Transfer  0xcf6165  0xb88f61    0.00   \n",
       "3       0xf4af55        1           Sold  0xeE3766  0xcf6165   60.00   \n",
       "4       0x7399ca        1            Bid  0xcf6165       NaN   60.00   \n",
       "...          ...      ...            ...       ...       ...     ...   \n",
       "166427  0xdfbce0        0            Bid  0x717403       NaN    0.05   \n",
       "166428  0x24893e        0           Sold  0xC352B5  0x00d7c9    0.98   \n",
       "166429  0xc29572        0            Bid  0x00d7C9       NaN    0.98   \n",
       "166430  0xbe1685        0            Bid  0x948a10       NaN    0.67   \n",
       "166431  0xdcc2d3        0        Claimed       NaN  0xc352b5    0.00   \n",
       "\n",
       "            Total U$        Date  \n",
       "0       33222.116700  2021-08-13  \n",
       "1       30434.143070  2021-08-12  \n",
       "2           0.000000  2020-11-30  \n",
       "3       36890.551740  2020-11-30  \n",
       "4       36890.551740  2020-11-30  \n",
       "...              ...         ...  \n",
       "166427     15.162399  2017-06-25  \n",
       "166428    317.222094  2017-06-24  \n",
       "166429    317.222094  2017-06-24  \n",
       "166430    216.876329  2017-06-24  \n",
       "166431      0.000000  2017-06-23  \n",
       "\n",
       "[166432 rows x 8 columns]"
      ]
     },
     "execution_count": 105,
     "metadata": {},
     "output_type": "execute_result"
    }
   ],
   "source": [
    "df_trans_final"
   ]
  },
  {
   "cell_type": "code",
   "execution_count": 106,
   "metadata": {
    "ExecuteTime": {
     "end_time": "2021-09-29T09:30:15.657498Z",
     "start_time": "2021-09-29T09:30:13.197202Z"
    }
   },
   "outputs": [],
   "source": [
    "df_trans_final.to_csv('transactions_dolars_final.csv')"
   ]
  }
 ],
 "metadata": {
  "hide_input": false,
  "kernelspec": {
   "display_name": "Python 3",
   "language": "python",
   "name": "python3"
  },
  "language_info": {
   "codemirror_mode": {
    "name": "ipython",
    "version": 3
   },
   "file_extension": ".py",
   "mimetype": "text/x-python",
   "name": "python",
   "nbconvert_exporter": "python",
   "pygments_lexer": "ipython3",
   "version": "3.8.5"
  }
 },
 "nbformat": 4,
 "nbformat_minor": 4
}
