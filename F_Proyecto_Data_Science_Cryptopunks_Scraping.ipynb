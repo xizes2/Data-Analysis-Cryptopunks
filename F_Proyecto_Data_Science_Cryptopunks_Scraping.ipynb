{
 "cells": [
  {
   "cell_type": "markdown",
   "metadata": {},
   "source": [
    "# Introducción\n",
    "\n",
    "Este trabajo fue desarrollado como proyecto final del curso de Data Science de IT Academy.\n",
    "\n",
    "El objetivo del proyecto es simular el trabajo de un Data Scientist para un gran inversor que desea aplicar recursos en Cryptopunks, un activo digital negociado en el blockchain de Ethereum.\n",
    "\n",
    "Para eso vamos crear un documento con recomendaciones de inversión, usando técnicas de recolección (scraping), almacenamiento (BBDD), exploración y visualización de datos, juntamente con técnicas de Machine Learning, prioritariamente de Clustering y Predicción, para intentar identificar grupos y/o características con mayores posibilidades de apreciación futura."
   ]
  },
  {
   "cell_type": "markdown",
   "metadata": {},
   "source": [
    "# Scraping"
   ]
  },
  {
   "cell_type": "markdown",
   "metadata": {},
   "source": [
    "### Scrape 1: https://larvalabs.com/cryptopunks/attributes\n",
    "\n",
    "Tablas: Punks Types, Punks Attributes, Punks Attributes Counts"
   ]
  },
  {
   "cell_type": "code",
   "execution_count": 117,
   "metadata": {
    "ExecuteTime": {
     "end_time": "2021-09-28T08:50:46.501382Z",
     "start_time": "2021-09-28T08:50:46.491378Z"
    }
   },
   "outputs": [],
   "source": [
    "# Import libraries\n",
    "\n",
    "# Manage dataframe\n",
    "import pandas as pd\n",
    "\n",
    "# Create 'bridge' between Jupyter and the Edge browser \n",
    "from selenium.webdriver import Edge"
   ]
  },
  {
   "cell_type": "code",
   "execution_count": 109,
   "metadata": {
    "ExecuteTime": {
     "end_time": "2021-09-28T08:49:40.571362Z",
     "start_time": "2021-09-28T08:49:40.559358Z"
    }
   },
   "outputs": [],
   "source": [
    "url_attributes = 'https://larvalabs.com/cryptopunks/attributes'"
   ]
  },
  {
   "cell_type": "code",
   "execution_count": 111,
   "metadata": {
    "ExecuteTime": {
     "end_time": "2021-09-28T08:50:16.213809Z",
     "start_time": "2021-09-28T08:50:01.204731Z"
    }
   },
   "outputs": [],
   "source": [
    "# Create driver to comunicate between Pyhton and the browser\n",
    "driver = Edge('C:\\Program Files (x86)\\Microsoft\\Edge\\Application\\MSEdgeDriver.exe')\n",
    "\n",
    "# Access web\n",
    "driver.get(url_attributes)"
   ]
  },
  {
   "cell_type": "code",
   "execution_count": null,
   "metadata": {},
   "outputs": [],
   "source": []
  },
  {
   "cell_type": "code",
   "execution_count": 112,
   "metadata": {
    "ExecuteTime": {
     "end_time": "2021-09-28T08:50:16.643916Z",
     "start_time": "2021-09-28T08:50:16.220813Z"
    }
   },
   "outputs": [],
   "source": [
    "# Access Punk Types table and find all lines\n",
    "punks_types = driver.find_element_by_xpath('/html/body/div[2]/div/div[3]/div/div[1]/table/tbody').find_elements_by_tag_name('tr')"
   ]
  },
  {
   "cell_type": "code",
   "execution_count": 113,
   "metadata": {
    "ExecuteTime": {
     "end_time": "2021-09-28T08:50:22.164635Z",
     "start_time": "2021-09-28T08:50:18.855090Z"
    }
   },
   "outputs": [],
   "source": [
    "# Create dict to hold values\n",
    "dict_punks_types = {'Attribute':[], '#':[], 'Avail':[], 'Avg Sale':[], 'Cheapest':[]}\n",
    "\n",
    "#Loop on each line and extract corresponding value for each key\n",
    "for e in punks_types:\n",
    "    dict_punks_types['Attribute'].append(e.find_elements_by_tag_name('td')[0].text)\n",
    "    dict_punks_types['#'].append(e.find_elements_by_tag_name('td')[1].text)\n",
    "    dict_punks_types['Avail'].append(e.find_elements_by_tag_name('td')[2].text)\n",
    "    dict_punks_types['Avg Sale'].append(e.find_elements_by_tag_name('td')[3].text)\n",
    "    dict_punks_types['Cheapest'].append(e.find_elements_by_tag_name('td')[4].text)"
   ]
  },
  {
   "cell_type": "code",
   "execution_count": 114,
   "metadata": {
    "ExecuteTime": {
     "end_time": "2021-09-28T08:50:23.217002Z",
     "start_time": "2021-09-28T08:50:23.201998Z"
    }
   },
   "outputs": [
    {
     "data": {
      "text/plain": [
       "{'Attribute': ['Alien', 'Ape', 'Zombie', 'Female', 'Male'],\n",
       " '#': ['9', '24', '88', '3840', '6039'],\n",
       " 'Avail': ['2', '2', '6', '487', '814'],\n",
       " 'Avg Sale': ['0', '1.92KΞ', '932.12Ξ', '67.06Ξ', '68.63Ξ'],\n",
       " 'Cheapest': ['35KΞ', '28.89KΞ', '2.09KΞ', '112Ξ', '103Ξ']}"
      ]
     },
     "execution_count": 114,
     "metadata": {},
     "output_type": "execute_result"
    }
   ],
   "source": [
    "dict_punks_types"
   ]
  },
  {
   "cell_type": "code",
   "execution_count": 115,
   "metadata": {
    "ExecuteTime": {
     "end_time": "2021-09-28T08:50:25.139311Z",
     "start_time": "2021-09-28T08:50:25.122305Z"
    }
   },
   "outputs": [],
   "source": [
    "df_punk_types = pd.DataFrame(dict_punks_types)"
   ]
  },
  {
   "cell_type": "code",
   "execution_count": 116,
   "metadata": {
    "ExecuteTime": {
     "end_time": "2021-09-28T08:50:26.392228Z",
     "start_time": "2021-09-28T08:50:26.361219Z"
    }
   },
   "outputs": [
    {
     "data": {
      "text/html": [
       "<div>\n",
       "<style scoped>\n",
       "    .dataframe tbody tr th:only-of-type {\n",
       "        vertical-align: middle;\n",
       "    }\n",
       "\n",
       "    .dataframe tbody tr th {\n",
       "        vertical-align: top;\n",
       "    }\n",
       "\n",
       "    .dataframe thead th {\n",
       "        text-align: right;\n",
       "    }\n",
       "</style>\n",
       "<table border=\"1\" class=\"dataframe\">\n",
       "  <thead>\n",
       "    <tr style=\"text-align: right;\">\n",
       "      <th></th>\n",
       "      <th>Attribute</th>\n",
       "      <th>#</th>\n",
       "      <th>Avail</th>\n",
       "      <th>Avg Sale</th>\n",
       "      <th>Cheapest</th>\n",
       "    </tr>\n",
       "  </thead>\n",
       "  <tbody>\n",
       "    <tr>\n",
       "      <th>0</th>\n",
       "      <td>Alien</td>\n",
       "      <td>9</td>\n",
       "      <td>2</td>\n",
       "      <td>0</td>\n",
       "      <td>35KΞ</td>\n",
       "    </tr>\n",
       "    <tr>\n",
       "      <th>1</th>\n",
       "      <td>Ape</td>\n",
       "      <td>24</td>\n",
       "      <td>2</td>\n",
       "      <td>1.92KΞ</td>\n",
       "      <td>28.89KΞ</td>\n",
       "    </tr>\n",
       "    <tr>\n",
       "      <th>2</th>\n",
       "      <td>Zombie</td>\n",
       "      <td>88</td>\n",
       "      <td>6</td>\n",
       "      <td>932.12Ξ</td>\n",
       "      <td>2.09KΞ</td>\n",
       "    </tr>\n",
       "    <tr>\n",
       "      <th>3</th>\n",
       "      <td>Female</td>\n",
       "      <td>3840</td>\n",
       "      <td>487</td>\n",
       "      <td>67.06Ξ</td>\n",
       "      <td>112Ξ</td>\n",
       "    </tr>\n",
       "    <tr>\n",
       "      <th>4</th>\n",
       "      <td>Male</td>\n",
       "      <td>6039</td>\n",
       "      <td>814</td>\n",
       "      <td>68.63Ξ</td>\n",
       "      <td>103Ξ</td>\n",
       "    </tr>\n",
       "  </tbody>\n",
       "</table>\n",
       "</div>"
      ],
      "text/plain": [
       "  Attribute     # Avail Avg Sale Cheapest\n",
       "0     Alien     9     2        0     35KΞ\n",
       "1       Ape    24     2   1.92KΞ  28.89KΞ\n",
       "2    Zombie    88     6  932.12Ξ   2.09KΞ\n",
       "3    Female  3840   487   67.06Ξ     112Ξ\n",
       "4      Male  6039   814   68.63Ξ     103Ξ"
      ]
     },
     "execution_count": 116,
     "metadata": {},
     "output_type": "execute_result"
    }
   ],
   "source": [
    "df_punk_types"
   ]
  },
  {
   "cell_type": "code",
   "execution_count": 118,
   "metadata": {
    "ExecuteTime": {
     "end_time": "2021-09-28T08:51:20.819850Z",
     "start_time": "2021-09-28T08:51:20.775314Z"
    }
   },
   "outputs": [],
   "source": [
    "df_punk_types.to_csv('punk_types.csv')"
   ]
  },
  {
   "cell_type": "code",
   "execution_count": null,
   "metadata": {},
   "outputs": [],
   "source": []
  },
  {
   "cell_type": "code",
   "execution_count": 119,
   "metadata": {
    "ExecuteTime": {
     "end_time": "2021-09-28T08:51:27.956782Z",
     "start_time": "2021-09-28T08:51:27.833755Z"
    }
   },
   "outputs": [],
   "source": [
    "# Access Punk Attributes table and find all lines\n",
    "punks_attributes = driver.find_element_by_xpath('/html/body/div[2]/div/div[3]/div/div[2]/table/tbody').find_elements_by_tag_name('tr')"
   ]
  },
  {
   "cell_type": "code",
   "execution_count": 120,
   "metadata": {
    "ExecuteTime": {
     "end_time": "2021-09-28T08:51:53.477858Z",
     "start_time": "2021-09-28T08:51:29.362560Z"
    }
   },
   "outputs": [],
   "source": [
    "dict_punks_attributes = {'Attribute':[], '#':[], 'Avail':[], 'Avg Sale':[], 'Cheapest':[]}\n",
    "\n",
    "for e in punks_attributes:\n",
    "    #print(e.find_elements_by_tag_name('td')[1].text)\n",
    "    dict_punks_attributes['Attribute'].append(e.find_elements_by_tag_name('td')[0].text)\n",
    "    dict_punks_attributes['#'].append(e.find_elements_by_tag_name('td')[1].text)\n",
    "    dict_punks_attributes['Avail'].append(e.find_elements_by_tag_name('td')[2].text)\n",
    "    dict_punks_attributes['Avg Sale'].append(e.find_elements_by_tag_name('td')[3].text)\n",
    "    dict_punks_attributes['Cheapest'].append(e.find_elements_by_tag_name('td')[4].text)"
   ]
  },
  {
   "cell_type": "code",
   "execution_count": 121,
   "metadata": {
    "ExecuteTime": {
     "end_time": "2021-09-28T08:51:53.524867Z",
     "start_time": "2021-09-28T08:51:53.482856Z"
    },
    "scrolled": true
   },
   "outputs": [
    {
     "data": {
      "text/plain": [
       "{'Attribute': ['Beanie',\n",
       "  'Choker',\n",
       "  'Pilot Helmet',\n",
       "  'Tiara',\n",
       "  'Orange Side',\n",
       "  'Buck Teeth',\n",
       "  'Welding Goggles',\n",
       "  'Pigtails',\n",
       "  'Pink With Hat',\n",
       "  'Top Hat',\n",
       "  'Spots',\n",
       "  'Rosy Cheeks',\n",
       "  'Blonde Short',\n",
       "  'Wild White Hair',\n",
       "  'Cowboy Hat',\n",
       "  'Wild Blonde',\n",
       "  'Straight Hair Blonde',\n",
       "  'Big Beard',\n",
       "  'Red Mohawk',\n",
       "  'Half Shaved',\n",
       "  'Blonde Bob',\n",
       "  'Vampire Hair',\n",
       "  'Clown Hair Green',\n",
       "  'Straight Hair Dark',\n",
       "  'Straight Hair',\n",
       "  'Silver Chain',\n",
       "  'Dark Hair',\n",
       "  'Purple Hair',\n",
       "  'Gold Chain',\n",
       "  'Medical Mask',\n",
       "  'Tassle Hat',\n",
       "  'Fedora',\n",
       "  'Police Cap',\n",
       "  'Clown Nose',\n",
       "  'Smile',\n",
       "  'Cap Forward',\n",
       "  'Hoodie',\n",
       "  'Front Beard Dark',\n",
       "  'Frown',\n",
       "  'Purple Eye Shadow',\n",
       "  'Handlebars',\n",
       "  'Blue Eye Shadow',\n",
       "  'Green Eye Shadow',\n",
       "  'Vape',\n",
       "  'Front Beard',\n",
       "  'Chinstrap',\n",
       "  '3D Glasses',\n",
       "  'Luxurious Beard',\n",
       "  'Mustache',\n",
       "  'Normal Beard Black',\n",
       "  'Normal Beard',\n",
       "  'Eye Mask',\n",
       "  'Goat',\n",
       "  'Do-rag',\n",
       "  'Shaved Head',\n",
       "  'Muttonchops',\n",
       "  'Peak Spike',\n",
       "  'Pipe',\n",
       "  'VR',\n",
       "  'Cap',\n",
       "  'Small Shades',\n",
       "  'Clown Eyes Green',\n",
       "  'Clown Eyes Blue',\n",
       "  'Headband',\n",
       "  'Crazy Hair',\n",
       "  'Knitted Cap',\n",
       "  'Mohawk Dark',\n",
       "  'Mohawk',\n",
       "  'Mohawk Thin',\n",
       "  'Frumpy Hair',\n",
       "  'Wild Hair',\n",
       "  'Messy Hair',\n",
       "  'Eye Patch',\n",
       "  'Stringy Hair',\n",
       "  'Bandana',\n",
       "  'Classic Shades',\n",
       "  'Shadow Beard',\n",
       "  'Regular Shades',\n",
       "  'Horned Rim Glasses',\n",
       "  'Big Shades',\n",
       "  'Nerd Glasses',\n",
       "  'Black Lipstick',\n",
       "  'Mole',\n",
       "  'Purple Lipstick',\n",
       "  'Hot Lipstick',\n",
       "  'Cigarette',\n",
       "  'Earring'],\n",
       " '#': ['44',\n",
       "  '48',\n",
       "  '54',\n",
       "  '55',\n",
       "  '68',\n",
       "  '78',\n",
       "  '86',\n",
       "  '94',\n",
       "  '95',\n",
       "  '115',\n",
       "  '124',\n",
       "  '128',\n",
       "  '129',\n",
       "  '136',\n",
       "  '142',\n",
       "  '144',\n",
       "  '144',\n",
       "  '146',\n",
       "  '147',\n",
       "  '147',\n",
       "  '147',\n",
       "  '147',\n",
       "  '148',\n",
       "  '148',\n",
       "  '151',\n",
       "  '156',\n",
       "  '157',\n",
       "  '165',\n",
       "  '169',\n",
       "  '175',\n",
       "  '178',\n",
       "  '186',\n",
       "  '203',\n",
       "  '212',\n",
       "  '238',\n",
       "  '254',\n",
       "  '259',\n",
       "  '260',\n",
       "  '261',\n",
       "  '262',\n",
       "  '263',\n",
       "  '266',\n",
       "  '271',\n",
       "  '272',\n",
       "  '273',\n",
       "  '282',\n",
       "  '286',\n",
       "  '286',\n",
       "  '288',\n",
       "  '289',\n",
       "  '292',\n",
       "  '293',\n",
       "  '295',\n",
       "  '300',\n",
       "  '300',\n",
       "  '303',\n",
       "  '303',\n",
       "  '317',\n",
       "  '332',\n",
       "  '351',\n",
       "  '378',\n",
       "  '382',\n",
       "  '384',\n",
       "  '406',\n",
       "  '414',\n",
       "  '419',\n",
       "  '429',\n",
       "  '441',\n",
       "  '441',\n",
       "  '442',\n",
       "  '447',\n",
       "  '460',\n",
       "  '461',\n",
       "  '463',\n",
       "  '481',\n",
       "  '502',\n",
       "  '526',\n",
       "  '527',\n",
       "  '535',\n",
       "  '535',\n",
       "  '572',\n",
       "  '617',\n",
       "  '644',\n",
       "  '655',\n",
       "  '696',\n",
       "  '961',\n",
       "  '2459'],\n",
       " 'Avail': ['7',\n",
       "  '10',\n",
       "  '9',\n",
       "  '7',\n",
       "  '17',\n",
       "  '15',\n",
       "  '17',\n",
       "  '20',\n",
       "  '17',\n",
       "  '25',\n",
       "  '20',\n",
       "  '17',\n",
       "  '17',\n",
       "  '21',\n",
       "  '16',\n",
       "  '17',\n",
       "  '31',\n",
       "  '29',\n",
       "  '12',\n",
       "  '21',\n",
       "  '19',\n",
       "  '30',\n",
       "  '28',\n",
       "  '14',\n",
       "  '24',\n",
       "  '29',\n",
       "  '21',\n",
       "  '28',\n",
       "  '33',\n",
       "  '28',\n",
       "  '17',\n",
       "  '30',\n",
       "  '24',\n",
       "  '33',\n",
       "  '42',\n",
       "  '40',\n",
       "  '35',\n",
       "  '33',\n",
       "  '36',\n",
       "  '26',\n",
       "  '31',\n",
       "  '29',\n",
       "  '32',\n",
       "  '33',\n",
       "  '33',\n",
       "  '35',\n",
       "  '52',\n",
       "  '56',\n",
       "  '32',\n",
       "  '43',\n",
       "  '39',\n",
       "  '42',\n",
       "  '46',\n",
       "  '33',\n",
       "  '41',\n",
       "  '29',\n",
       "  '30',\n",
       "  '52',\n",
       "  '51',\n",
       "  '55',\n",
       "  '45',\n",
       "  '51',\n",
       "  '52',\n",
       "  '51',\n",
       "  '55',\n",
       "  '57',\n",
       "  '41',\n",
       "  '48',\n",
       "  '54',\n",
       "  '46',\n",
       "  '52',\n",
       "  '39',\n",
       "  '59',\n",
       "  '52',\n",
       "  '66',\n",
       "  '64',\n",
       "  '68',\n",
       "  '80',\n",
       "  '56',\n",
       "  '80',\n",
       "  '67',\n",
       "  '88',\n",
       "  '83',\n",
       "  '81',\n",
       "  '92',\n",
       "  '134',\n",
       "  '348'],\n",
       " 'Avg Sale': ['265.78Ξ',\n",
       "  '120.21Ξ',\n",
       "  '233.74Ξ',\n",
       "  '148.05Ξ',\n",
       "  '118.61Ξ',\n",
       "  '96.26Ξ',\n",
       "  '113.00Ξ',\n",
       "  '90.22Ξ',\n",
       "  '102.31Ξ',\n",
       "  '121.50Ξ',\n",
       "  '63.51Ξ',\n",
       "  '68.91Ξ',\n",
       "  '68.98Ξ',\n",
       "  '95.20Ξ',\n",
       "  '97.42Ξ',\n",
       "  '87.75Ξ',\n",
       "  '84.54Ξ',\n",
       "  '78.94Ξ',\n",
       "  '75.34Ξ',\n",
       "  '65.80Ξ',\n",
       "  '75.76Ξ',\n",
       "  '74.23Ξ',\n",
       "  '69.57Ξ',\n",
       "  '62.76Ξ',\n",
       "  '58.72Ξ',\n",
       "  '68.89Ξ',\n",
       "  '57.79Ξ',\n",
       "  '91.03Ξ',\n",
       "  '106.35Ξ',\n",
       "  '79.75Ξ',\n",
       "  '72.36Ξ',\n",
       "  '76.09Ξ',\n",
       "  '66.05Ξ',\n",
       "  '80.03Ξ',\n",
       "  '81.21Ξ',\n",
       "  '70.82Ξ',\n",
       "  '184.69Ξ',\n",
       "  '59.66Ξ',\n",
       "  '57.51Ξ',\n",
       "  '63.51Ξ',\n",
       "  '65.34Ξ',\n",
       "  '59.74Ξ',\n",
       "  '64.97Ξ',\n",
       "  '78.80Ξ',\n",
       "  '62.07Ξ',\n",
       "  '70.12Ξ',\n",
       "  '112.46Ξ',\n",
       "  '84.54Ξ',\n",
       "  '60.15Ξ',\n",
       "  '68.79Ξ',\n",
       "  '77.89Ξ',\n",
       "  '72.68Ξ',\n",
       "  '62.43Ξ',\n",
       "  '52.67Ξ',\n",
       "  '61.80Ξ',\n",
       "  '59.21Ξ',\n",
       "  '62.23Ξ',\n",
       "  '84.20Ξ',\n",
       "  '86.86Ξ',\n",
       "  '81.78Ξ',\n",
       "  '62.61Ξ',\n",
       "  '70.18Ξ',\n",
       "  '62.24Ξ',\n",
       "  '61.85Ξ',\n",
       "  '78.06Ξ',\n",
       "  '63.11Ξ',\n",
       "  '52.02Ξ',\n",
       "  '55.39Ξ',\n",
       "  '56.29Ξ',\n",
       "  '53.59Ξ',\n",
       "  '66.85Ξ',\n",
       "  '63.57Ξ',\n",
       "  '66.78Ξ',\n",
       "  '44.52Ξ',\n",
       "  '61.41Ξ',\n",
       "  '62.91Ξ',\n",
       "  '75.84Ξ',\n",
       "  '73.59Ξ',\n",
       "  '61.39Ξ',\n",
       "  '87.83Ξ',\n",
       "  '73.43Ξ',\n",
       "  '59.60Ξ',\n",
       "  '60.63Ξ',\n",
       "  '71.04Ξ',\n",
       "  '66.22Ξ',\n",
       "  '66.05Ξ',\n",
       "  '66.04Ξ'],\n",
       " 'Cheapest': ['800Ξ',\n",
       "  '275Ξ',\n",
       "  '355Ξ',\n",
       "  '399Ξ',\n",
       "  '239Ξ',\n",
       "  '176Ξ',\n",
       "  '187Ξ',\n",
       "  '158Ξ',\n",
       "  '180Ξ',\n",
       "  '200Ξ',\n",
       "  '160Ξ',\n",
       "  '174Ξ',\n",
       "  '140Ξ',\n",
       "  '199Ξ',\n",
       "  '261Ξ',\n",
       "  '199Ξ',\n",
       "  '129Ξ',\n",
       "  '140Ξ',\n",
       "  '127Ξ',\n",
       "  '137Ξ',\n",
       "  '139Ξ',\n",
       "  '118Ξ',\n",
       "  '128Ξ',\n",
       "  '125Ξ',\n",
       "  '129Ξ',\n",
       "  '125Ξ',\n",
       "  '148Ξ',\n",
       "  '150Ξ',\n",
       "  '150Ξ',\n",
       "  '129Ξ',\n",
       "  '129.98Ξ',\n",
       "  '138Ξ',\n",
       "  '133Ξ',\n",
       "  '111Ξ',\n",
       "  '152Ξ',\n",
       "  '134.98Ξ',\n",
       "  '299.99Ξ',\n",
       "  '110Ξ',\n",
       "  '129.90Ξ',\n",
       "  '125Ξ',\n",
       "  '116.88Ξ',\n",
       "  '125Ξ',\n",
       "  '123.99Ξ',\n",
       "  '118Ξ',\n",
       "  '109Ξ',\n",
       "  '120Ξ',\n",
       "  '185Ξ',\n",
       "  '139.99Ξ',\n",
       "  '123Ξ',\n",
       "  '122.80Ξ',\n",
       "  '104.99Ξ',\n",
       "  '124Ξ',\n",
       "  '107.50Ξ',\n",
       "  '116.88Ξ',\n",
       "  '107.50Ξ',\n",
       "  '128Ξ',\n",
       "  '115Ξ',\n",
       "  '135Ξ',\n",
       "  '165Ξ',\n",
       "  '142Ξ',\n",
       "  '127Ξ',\n",
       "  '113.50Ξ',\n",
       "  '103Ξ',\n",
       "  '119Ξ',\n",
       "  '119.95Ξ',\n",
       "  '109Ξ',\n",
       "  '115Ξ',\n",
       "  '113.50Ξ',\n",
       "  '103Ξ',\n",
       "  '107.50Ξ',\n",
       "  '115Ξ',\n",
       "  '118.88Ξ',\n",
       "  '117.95Ξ',\n",
       "  '110Ξ',\n",
       "  '115Ξ',\n",
       "  '112Ξ',\n",
       "  '115Ξ',\n",
       "  '117Ξ',\n",
       "  '116Ξ',\n",
       "  '135Ξ',\n",
       "  '128Ξ',\n",
       "  '115Ξ',\n",
       "  '115Ξ',\n",
       "  '120Ξ',\n",
       "  '112Ξ',\n",
       "  '115Ξ',\n",
       "  '118.88Ξ']}"
      ]
     },
     "execution_count": 121,
     "metadata": {},
     "output_type": "execute_result"
    }
   ],
   "source": [
    "dict_punks_attributes"
   ]
  },
  {
   "cell_type": "code",
   "execution_count": 122,
   "metadata": {
    "ExecuteTime": {
     "end_time": "2021-09-28T08:51:53.620892Z",
     "start_time": "2021-09-28T08:51:53.543877Z"
    }
   },
   "outputs": [
    {
     "data": {
      "text/html": [
       "<div>\n",
       "<style scoped>\n",
       "    .dataframe tbody tr th:only-of-type {\n",
       "        vertical-align: middle;\n",
       "    }\n",
       "\n",
       "    .dataframe tbody tr th {\n",
       "        vertical-align: top;\n",
       "    }\n",
       "\n",
       "    .dataframe thead th {\n",
       "        text-align: right;\n",
       "    }\n",
       "</style>\n",
       "<table border=\"1\" class=\"dataframe\">\n",
       "  <thead>\n",
       "    <tr style=\"text-align: right;\">\n",
       "      <th></th>\n",
       "      <th>Attribute</th>\n",
       "      <th>#</th>\n",
       "      <th>Avail</th>\n",
       "      <th>Avg Sale</th>\n",
       "      <th>Cheapest</th>\n",
       "    </tr>\n",
       "  </thead>\n",
       "  <tbody>\n",
       "    <tr>\n",
       "      <th>0</th>\n",
       "      <td>Beanie</td>\n",
       "      <td>44</td>\n",
       "      <td>7</td>\n",
       "      <td>265.78Ξ</td>\n",
       "      <td>800Ξ</td>\n",
       "    </tr>\n",
       "    <tr>\n",
       "      <th>1</th>\n",
       "      <td>Choker</td>\n",
       "      <td>48</td>\n",
       "      <td>10</td>\n",
       "      <td>120.21Ξ</td>\n",
       "      <td>275Ξ</td>\n",
       "    </tr>\n",
       "    <tr>\n",
       "      <th>2</th>\n",
       "      <td>Pilot Helmet</td>\n",
       "      <td>54</td>\n",
       "      <td>9</td>\n",
       "      <td>233.74Ξ</td>\n",
       "      <td>355Ξ</td>\n",
       "    </tr>\n",
       "    <tr>\n",
       "      <th>3</th>\n",
       "      <td>Tiara</td>\n",
       "      <td>55</td>\n",
       "      <td>7</td>\n",
       "      <td>148.05Ξ</td>\n",
       "      <td>399Ξ</td>\n",
       "    </tr>\n",
       "    <tr>\n",
       "      <th>4</th>\n",
       "      <td>Orange Side</td>\n",
       "      <td>68</td>\n",
       "      <td>17</td>\n",
       "      <td>118.61Ξ</td>\n",
       "      <td>239Ξ</td>\n",
       "    </tr>\n",
       "    <tr>\n",
       "      <th>...</th>\n",
       "      <td>...</td>\n",
       "      <td>...</td>\n",
       "      <td>...</td>\n",
       "      <td>...</td>\n",
       "      <td>...</td>\n",
       "    </tr>\n",
       "    <tr>\n",
       "      <th>82</th>\n",
       "      <td>Mole</td>\n",
       "      <td>644</td>\n",
       "      <td>83</td>\n",
       "      <td>60.63Ξ</td>\n",
       "      <td>115Ξ</td>\n",
       "    </tr>\n",
       "    <tr>\n",
       "      <th>83</th>\n",
       "      <td>Purple Lipstick</td>\n",
       "      <td>655</td>\n",
       "      <td>81</td>\n",
       "      <td>71.04Ξ</td>\n",
       "      <td>120Ξ</td>\n",
       "    </tr>\n",
       "    <tr>\n",
       "      <th>84</th>\n",
       "      <td>Hot Lipstick</td>\n",
       "      <td>696</td>\n",
       "      <td>92</td>\n",
       "      <td>66.22Ξ</td>\n",
       "      <td>112Ξ</td>\n",
       "    </tr>\n",
       "    <tr>\n",
       "      <th>85</th>\n",
       "      <td>Cigarette</td>\n",
       "      <td>961</td>\n",
       "      <td>134</td>\n",
       "      <td>66.05Ξ</td>\n",
       "      <td>115Ξ</td>\n",
       "    </tr>\n",
       "    <tr>\n",
       "      <th>86</th>\n",
       "      <td>Earring</td>\n",
       "      <td>2459</td>\n",
       "      <td>348</td>\n",
       "      <td>66.04Ξ</td>\n",
       "      <td>118.88Ξ</td>\n",
       "    </tr>\n",
       "  </tbody>\n",
       "</table>\n",
       "<p>87 rows × 5 columns</p>\n",
       "</div>"
      ],
      "text/plain": [
       "          Attribute     # Avail Avg Sale Cheapest\n",
       "0            Beanie    44     7  265.78Ξ     800Ξ\n",
       "1            Choker    48    10  120.21Ξ     275Ξ\n",
       "2      Pilot Helmet    54     9  233.74Ξ     355Ξ\n",
       "3             Tiara    55     7  148.05Ξ     399Ξ\n",
       "4       Orange Side    68    17  118.61Ξ     239Ξ\n",
       "..              ...   ...   ...      ...      ...\n",
       "82             Mole   644    83   60.63Ξ     115Ξ\n",
       "83  Purple Lipstick   655    81   71.04Ξ     120Ξ\n",
       "84     Hot Lipstick   696    92   66.22Ξ     112Ξ\n",
       "85        Cigarette   961   134   66.05Ξ     115Ξ\n",
       "86          Earring  2459   348   66.04Ξ  118.88Ξ\n",
       "\n",
       "[87 rows x 5 columns]"
      ]
     },
     "execution_count": 122,
     "metadata": {},
     "output_type": "execute_result"
    }
   ],
   "source": [
    "df_punks_attributes = pd.DataFrame(dict_punks_attributes)\n",
    "df_punks_attributes"
   ]
  },
  {
   "cell_type": "code",
   "execution_count": 124,
   "metadata": {
    "ExecuteTime": {
     "end_time": "2021-09-28T08:52:19.234914Z",
     "start_time": "2021-09-28T08:52:19.205911Z"
    }
   },
   "outputs": [],
   "source": [
    "df_punks_attributes.to_csv('punks_attributes.csv')"
   ]
  },
  {
   "cell_type": "code",
   "execution_count": null,
   "metadata": {},
   "outputs": [],
   "source": []
  },
  {
   "cell_type": "code",
   "execution_count": 125,
   "metadata": {
    "ExecuteTime": {
     "end_time": "2021-09-28T08:52:23.573557Z",
     "start_time": "2021-09-28T08:52:23.430521Z"
    }
   },
   "outputs": [],
   "source": [
    "# Access Punk Attributes Counts table and find all lines\n",
    "punks_attributes_counts = driver.find_element_by_xpath('/html/body/div[2]/div/div[3]/div/div[3]/table/tbody').find_elements_by_tag_name('tr')"
   ]
  },
  {
   "cell_type": "code",
   "execution_count": 126,
   "metadata": {
    "ExecuteTime": {
     "end_time": "2021-09-28T08:52:26.816618Z",
     "start_time": "2021-09-28T08:52:24.420772Z"
    }
   },
   "outputs": [],
   "source": [
    "dict_punks_attributes_counts = {'Attribute':[], '#':[], 'Avail':[], 'Avg Sale':[], 'Cheapest':[]}\n",
    "\n",
    "for e in punks_attributes_counts:\n",
    "    #print(e.find_elements_by_tag_name('td')[1].text)\n",
    "    dict_punks_attributes_counts['Attribute'].append(e.find_elements_by_tag_name('td')[0].text)\n",
    "    dict_punks_attributes_counts['#'].append(e.find_elements_by_tag_name('td')[1].text)\n",
    "    dict_punks_attributes_counts['Avail'].append(e.find_elements_by_tag_name('td')[2].text)\n",
    "    dict_punks_attributes_counts['Avg Sale'].append(e.find_elements_by_tag_name('td')[3].text)\n",
    "    dict_punks_attributes_counts['Cheapest'].append(e.find_elements_by_tag_name('td')[4].text)"
   ]
  },
  {
   "cell_type": "code",
   "execution_count": 127,
   "metadata": {
    "ExecuteTime": {
     "end_time": "2021-09-28T08:52:26.832623Z",
     "start_time": "2021-09-28T08:52:26.816618Z"
    }
   },
   "outputs": [
    {
     "data": {
      "text/plain": [
       "{'Attribute': ['0 Attributes',\n",
       "  '1 Attributes',\n",
       "  '2 Attributes',\n",
       "  '3 Attributes',\n",
       "  '4 Attributes',\n",
       "  '5 Attributes',\n",
       "  '6 Attributes',\n",
       "  '7 Attributes'],\n",
       " '#': ['8', '333', '3560', '4501', '1420', '166', '11', '1'],\n",
       " 'Avail': ['1', '37', '444', '568', '219', '39', '3', '0'],\n",
       " 'Avg Sale': ['0',\n",
       "  '135.03Ξ',\n",
       "  '71.89Ξ',\n",
       "  '70.22Ξ',\n",
       "  '66.40Ξ',\n",
       "  '109.06Ξ',\n",
       "  '0',\n",
       "  '0'],\n",
       " 'Cheapest': ['4KΞ', '140Ξ', '103Ξ', '111Ξ', '118.88Ξ', '158Ξ', '1.5KΞ', '']}"
      ]
     },
     "execution_count": 127,
     "metadata": {},
     "output_type": "execute_result"
    }
   ],
   "source": [
    "dict_punks_attributes_counts"
   ]
  },
  {
   "cell_type": "code",
   "execution_count": 128,
   "metadata": {
    "ExecuteTime": {
     "end_time": "2021-09-28T08:52:28.231307Z",
     "start_time": "2021-09-28T08:52:28.190295Z"
    }
   },
   "outputs": [
    {
     "data": {
      "text/html": [
       "<div>\n",
       "<style scoped>\n",
       "    .dataframe tbody tr th:only-of-type {\n",
       "        vertical-align: middle;\n",
       "    }\n",
       "\n",
       "    .dataframe tbody tr th {\n",
       "        vertical-align: top;\n",
       "    }\n",
       "\n",
       "    .dataframe thead th {\n",
       "        text-align: right;\n",
       "    }\n",
       "</style>\n",
       "<table border=\"1\" class=\"dataframe\">\n",
       "  <thead>\n",
       "    <tr style=\"text-align: right;\">\n",
       "      <th></th>\n",
       "      <th>Attribute</th>\n",
       "      <th>#</th>\n",
       "      <th>Avail</th>\n",
       "      <th>Avg Sale</th>\n",
       "      <th>Cheapest</th>\n",
       "    </tr>\n",
       "  </thead>\n",
       "  <tbody>\n",
       "    <tr>\n",
       "      <th>0</th>\n",
       "      <td>0 Attributes</td>\n",
       "      <td>8</td>\n",
       "      <td>1</td>\n",
       "      <td>0</td>\n",
       "      <td>4KΞ</td>\n",
       "    </tr>\n",
       "    <tr>\n",
       "      <th>1</th>\n",
       "      <td>1 Attributes</td>\n",
       "      <td>333</td>\n",
       "      <td>37</td>\n",
       "      <td>135.03Ξ</td>\n",
       "      <td>140Ξ</td>\n",
       "    </tr>\n",
       "    <tr>\n",
       "      <th>2</th>\n",
       "      <td>2 Attributes</td>\n",
       "      <td>3560</td>\n",
       "      <td>444</td>\n",
       "      <td>71.89Ξ</td>\n",
       "      <td>103Ξ</td>\n",
       "    </tr>\n",
       "    <tr>\n",
       "      <th>3</th>\n",
       "      <td>3 Attributes</td>\n",
       "      <td>4501</td>\n",
       "      <td>568</td>\n",
       "      <td>70.22Ξ</td>\n",
       "      <td>111Ξ</td>\n",
       "    </tr>\n",
       "    <tr>\n",
       "      <th>4</th>\n",
       "      <td>4 Attributes</td>\n",
       "      <td>1420</td>\n",
       "      <td>219</td>\n",
       "      <td>66.40Ξ</td>\n",
       "      <td>118.88Ξ</td>\n",
       "    </tr>\n",
       "    <tr>\n",
       "      <th>5</th>\n",
       "      <td>5 Attributes</td>\n",
       "      <td>166</td>\n",
       "      <td>39</td>\n",
       "      <td>109.06Ξ</td>\n",
       "      <td>158Ξ</td>\n",
       "    </tr>\n",
       "    <tr>\n",
       "      <th>6</th>\n",
       "      <td>6 Attributes</td>\n",
       "      <td>11</td>\n",
       "      <td>3</td>\n",
       "      <td>0</td>\n",
       "      <td>1.5KΞ</td>\n",
       "    </tr>\n",
       "    <tr>\n",
       "      <th>7</th>\n",
       "      <td>7 Attributes</td>\n",
       "      <td>1</td>\n",
       "      <td>0</td>\n",
       "      <td>0</td>\n",
       "      <td></td>\n",
       "    </tr>\n",
       "  </tbody>\n",
       "</table>\n",
       "</div>"
      ],
      "text/plain": [
       "      Attribute     # Avail Avg Sale Cheapest\n",
       "0  0 Attributes     8     1        0      4KΞ\n",
       "1  1 Attributes   333    37  135.03Ξ     140Ξ\n",
       "2  2 Attributes  3560   444   71.89Ξ     103Ξ\n",
       "3  3 Attributes  4501   568   70.22Ξ     111Ξ\n",
       "4  4 Attributes  1420   219   66.40Ξ  118.88Ξ\n",
       "5  5 Attributes   166    39  109.06Ξ     158Ξ\n",
       "6  6 Attributes    11     3        0    1.5KΞ\n",
       "7  7 Attributes     1     0        0         "
      ]
     },
     "execution_count": 128,
     "metadata": {},
     "output_type": "execute_result"
    }
   ],
   "source": [
    "df_punks_attributes_counts = pd.DataFrame(dict_punks_attributes_counts)\n",
    "df_punks_attributes_counts"
   ]
  },
  {
   "cell_type": "code",
   "execution_count": 129,
   "metadata": {
    "ExecuteTime": {
     "end_time": "2021-09-28T08:53:00.579351Z",
     "start_time": "2021-09-28T08:53:00.557344Z"
    }
   },
   "outputs": [],
   "source": [
    "df_punks_attributes_counts.to_csv('punks_attributes_counts.csv')"
   ]
  },
  {
   "cell_type": "code",
   "execution_count": null,
   "metadata": {},
   "outputs": [],
   "source": []
  },
  {
   "cell_type": "markdown",
   "metadata": {},
   "source": [
    "### Scrape 2: https://defypunk.com/punks/\n",
    "\n",
    "Tabla: Todos los punks accedendo pagina a pagina"
   ]
  },
  {
   "cell_type": "code",
   "execution_count": 353,
   "metadata": {
    "ExecuteTime": {
     "end_time": "2021-09-28T22:34:30.076997Z",
     "start_time": "2021-09-28T22:34:30.062992Z"
    }
   },
   "outputs": [],
   "source": [
    "# Imports\n",
    "from selenium.webdriver.common.keys import Keys\n",
    "from selenium.webdriver.support.wait import WebDriverWait \n",
    "from selenium.webdriver.support import expected_conditions as EC\n",
    "from selenium.webdriver.common.by import By\n",
    "from selenium.webdriver.common.action_chains import ActionChains"
   ]
  },
  {
   "cell_type": "code",
   "execution_count": null,
   "metadata": {
    "ExecuteTime": {
     "end_time": "2021-09-28T09:44:13.329116Z",
     "start_time": "2021-09-28T09:44:13.317116Z"
    }
   },
   "outputs": [],
   "source": []
  },
  {
   "cell_type": "code",
   "execution_count": 335,
   "metadata": {
    "ExecuteTime": {
     "end_time": "2021-09-28T22:16:44.601746Z",
     "start_time": "2021-09-28T22:16:44.588743Z"
    }
   },
   "outputs": [],
   "source": [
    "# Crear dict para recibir los valores\n",
    "dict_punks_traits_final = {'Punk':[], 'Rarity':[], 'Genre':[], 'Skin':[], 'Traits':[], 'Owned_by':[]}"
   ]
  },
  {
   "cell_type": "code",
   "execution_count": null,
   "metadata": {
    "ExecuteTime": {
     "end_time": "2021-09-29T03:08:39.551157Z",
     "start_time": "2021-09-28T22:35:57.460903Z"
    }
   },
   "outputs": [],
   "source": [
    "# Crear y acceder al driver\n",
    "driver = Edge('C:\\Program Files (x86)\\Microsoft\\Edge\\Application\\MSEdgeDriver.exe')\n",
    "url = 'https://defypunk.com/punks/'\n",
    "#driver.get(url)"
   ]
  },
  {
   "cell_type": "code",
   "execution_count": 354,
   "metadata": {
    "ExecuteTime": {
     "end_time": "2021-09-29T03:08:39.551157Z",
     "start_time": "2021-09-28T22:35:57.460903Z"
    }
   },
   "outputs": [],
   "source": [
    "# Loop por la pagina de cada Punk y colectar los datos relevantes de cada uno\n",
    "for i in range(10000):\n",
    "    driver.get(url + str(i))\n",
    "    \n",
    "    # Driver wait para que esperemos el mínimo posible a que los elementos buscados estén disponibles\n",
    "    WebDriverWait(driver, 5).until(EC.presence_of_element_located((By.XPATH, '//*[@id=\"root\"]/div/main/div/div')))\n",
    "    \n",
    "    # Acceder, limpiar (cuando necesario) y agregar las infos al dicionário\n",
    "    dict_punks_traits_final['Punk'].append(driver.find_element_by_xpath('//*[@id=\"root\"]/div/main/div/div/h1').text)\n",
    "    \n",
    "    dict_punks_traits_final['Rarity'].append(driver.find_element_by_xpath('//*[@id=\"root\"]/div/main/div/div/div/div[1]/div[2]').text.replace('st', '').replace('nd', '').replace('rd', '').replace('th', '').split(' ')[0])\n",
    "    \n",
    "    dict_punks_traits_final['Genre'].append(driver.find_element_by_xpath('//*[@id=\"root\"]/div/main/div/div/div/div[1]/div[3]/a').text)\n",
    "\n",
    "    dict_punks_traits_final['Skin'].append(driver.find_element_by_xpath('//*[@id=\"root\"]/div/main/div/div/div/div[1]/div[4]/a').text)\n",
    "    \n",
    "    dict_punks_traits_final['Traits'].append(driver.find_element_by_xpath('//*[@id=\"root\"]/div/main/div/div/div/div[1]/div[5]/ul').text.replace('one of', '').replace('(', '').replace(')', '').replace('1', '').replace('2', '').replace('3', '').replace('4', '').replace('5', '').replace('6', '').replace('7', '').replace('8', '').replace('9', '').replace('0', '').replace(',', '').replace(' ', '').split('\\n'))\n",
    "    \n",
    "    dict_punks_traits_final['Owned_by'].append(driver.find_element_by_xpath('//*[@id=\"root\"]/div/main/div/div/div/div[2]/div[1]/h3/a').text)\n",
    "\n",
    "# Cerrar driver\n",
    "driver.quit()    "
   ]
  },
  {
   "cell_type": "code",
   "execution_count": null,
   "metadata": {
    "ExecuteTime": {
     "end_time": "2021-09-28T22:21:19.840439Z",
     "start_time": "2021-09-28T22:21:19.830435Z"
    }
   },
   "outputs": [],
   "source": []
  },
  {
   "cell_type": "code",
   "execution_count": 384,
   "metadata": {
    "ExecuteTime": {
     "end_time": "2021-09-29T05:24:41.022284Z",
     "start_time": "2021-09-29T05:24:41.008299Z"
    }
   },
   "outputs": [],
   "source": [
    "# Crear DF\n",
    "df_punks_traits = pd.DataFrame(dict_punks_traits_final)"
   ]
  },
  {
   "cell_type": "code",
   "execution_count": 283,
   "metadata": {
    "ExecuteTime": {
     "end_time": "2021-09-28T11:49:05.769118Z",
     "start_time": "2021-09-28T11:49:05.731107Z"
    }
   },
   "outputs": [],
   "source": [
    "# DF back up\n",
    "#dict_punks_traits_1 = dict_punks_traits.copy()"
   ]
  },
  {
   "cell_type": "code",
   "execution_count": 386,
   "metadata": {
    "ExecuteTime": {
     "end_time": "2021-09-29T05:25:39.817273Z",
     "start_time": "2021-09-29T05:25:39.753257Z"
    }
   },
   "outputs": [
    {
     "data": {
      "text/html": [
       "<div>\n",
       "<style scoped>\n",
       "    .dataframe tbody tr th:only-of-type {\n",
       "        vertical-align: middle;\n",
       "    }\n",
       "\n",
       "    .dataframe tbody tr th {\n",
       "        vertical-align: top;\n",
       "    }\n",
       "\n",
       "    .dataframe thead th {\n",
       "        text-align: right;\n",
       "    }\n",
       "</style>\n",
       "<table border=\"1\" class=\"dataframe\">\n",
       "  <thead>\n",
       "    <tr style=\"text-align: right;\">\n",
       "      <th></th>\n",
       "      <th>Punk</th>\n",
       "      <th>Rarity</th>\n",
       "      <th>Genre</th>\n",
       "      <th>Skin</th>\n",
       "      <th>Traits</th>\n",
       "      <th>Owned_by</th>\n",
       "    </tr>\n",
       "  </thead>\n",
       "  <tbody>\n",
       "    <tr>\n",
       "      <th>0</th>\n",
       "      <td>CryptoPunk #0</td>\n",
       "      <td>2,023</td>\n",
       "      <td>Female</td>\n",
       "      <td>Mid-skinned</td>\n",
       "      <td>[BlondeBob, Earring, GreenEyeShadow, HiddenEar...</td>\n",
       "      <td>0xE08c32</td>\n",
       "    </tr>\n",
       "    <tr>\n",
       "      <th>1</th>\n",
       "      <td>CryptoPunk #1</td>\n",
       "      <td>4,352</td>\n",
       "      <td>Male</td>\n",
       "      <td>Dark-skinned</td>\n",
       "      <td>[Mohawk, Smile]</td>\n",
       "      <td>0xB88F61</td>\n",
       "    </tr>\n",
       "    <tr>\n",
       "      <th>2</th>\n",
       "      <td>CryptoPunk #2</td>\n",
       "      <td>8,090</td>\n",
       "      <td>Female</td>\n",
       "      <td>Light-skinned</td>\n",
       "      <td>[WildHair]</td>\n",
       "      <td>0x897aEA</td>\n",
       "    </tr>\n",
       "    <tr>\n",
       "      <th>3</th>\n",
       "      <td>CryptoPunk #3</td>\n",
       "      <td>7,896</td>\n",
       "      <td>Male</td>\n",
       "      <td>Dark-skinned</td>\n",
       "      <td>[NerdGlasses, Pipe, WildHair]</td>\n",
       "      <td>0xC352B5</td>\n",
       "    </tr>\n",
       "    <tr>\n",
       "      <th>4</th>\n",
       "      <td>CryptoPunk #4</td>\n",
       "      <td>7,332</td>\n",
       "      <td>Male</td>\n",
       "      <td>Mid-skinned</td>\n",
       "      <td>[BigShades, Earring, Goat, WildHair]</td>\n",
       "      <td>0xC352B5</td>\n",
       "    </tr>\n",
       "    <tr>\n",
       "      <th>...</th>\n",
       "      <td>...</td>\n",
       "      <td>...</td>\n",
       "      <td>...</td>\n",
       "      <td>...</td>\n",
       "      <td>...</td>\n",
       "      <td>...</td>\n",
       "    </tr>\n",
       "    <tr>\n",
       "      <th>9995</th>\n",
       "      <td>CryptoPunk #9995</td>\n",
       "      <td>2,466</td>\n",
       "      <td>Female</td>\n",
       "      <td>Albino-skinned</td>\n",
       "      <td>[PurpleEyeShadow, StraightHairDark]</td>\n",
       "      <td>0x758353</td>\n",
       "    </tr>\n",
       "    <tr>\n",
       "      <th>9996</th>\n",
       "      <td>CryptoPunk #9996</td>\n",
       "      <td>4,323</td>\n",
       "      <td>Male</td>\n",
       "      <td>Light-skinned</td>\n",
       "      <td>[Cigarette, CrazyHair, Earring, Smile]</td>\n",
       "      <td>0xA9bFA9</td>\n",
       "    </tr>\n",
       "    <tr>\n",
       "      <th>9997</th>\n",
       "      <td>CryptoPunk #9997</td>\n",
       "      <td>498</td>\n",
       "      <td>Zombie</td>\n",
       "      <td>Zombie-skinned</td>\n",
       "      <td>[CapForward, FrontBeard]</td>\n",
       "      <td>0x944D32</td>\n",
       "    </tr>\n",
       "    <tr>\n",
       "      <th>9998</th>\n",
       "      <td>CryptoPunk #9998</td>\n",
       "      <td>1,271</td>\n",
       "      <td>Female</td>\n",
       "      <td>Mid-skinned</td>\n",
       "      <td>[BlackLipstick, ClownEyesGreen, WildWhiteHair]</td>\n",
       "      <td>0xef764B</td>\n",
       "    </tr>\n",
       "    <tr>\n",
       "      <th>9999</th>\n",
       "      <td>CryptoPunk #9999</td>\n",
       "      <td>9,233</td>\n",
       "      <td>Female</td>\n",
       "      <td>Dark-skinned</td>\n",
       "      <td>[Mohawk, NerdGlasses]</td>\n",
       "      <td>0x0A383e</td>\n",
       "    </tr>\n",
       "  </tbody>\n",
       "</table>\n",
       "<p>10000 rows × 6 columns</p>\n",
       "</div>"
      ],
      "text/plain": [
       "                  Punk Rarity   Genre            Skin  \\\n",
       "0        CryptoPunk #0  2,023  Female     Mid-skinned   \n",
       "1        CryptoPunk #1  4,352    Male    Dark-skinned   \n",
       "2        CryptoPunk #2  8,090  Female   Light-skinned   \n",
       "3        CryptoPunk #3  7,896    Male    Dark-skinned   \n",
       "4        CryptoPunk #4  7,332    Male     Mid-skinned   \n",
       "...                ...    ...     ...             ...   \n",
       "9995  CryptoPunk #9995  2,466  Female  Albino-skinned   \n",
       "9996  CryptoPunk #9996  4,323    Male   Light-skinned   \n",
       "9997  CryptoPunk #9997    498  Zombie  Zombie-skinned   \n",
       "9998  CryptoPunk #9998  1,271  Female     Mid-skinned   \n",
       "9999  CryptoPunk #9999  9,233  Female    Dark-skinned   \n",
       "\n",
       "                                                 Traits  Owned_by  \n",
       "0     [BlondeBob, Earring, GreenEyeShadow, HiddenEar...  0xE08c32  \n",
       "1                                       [Mohawk, Smile]  0xB88F61  \n",
       "2                                            [WildHair]  0x897aEA  \n",
       "3                         [NerdGlasses, Pipe, WildHair]  0xC352B5  \n",
       "4                  [BigShades, Earring, Goat, WildHair]  0xC352B5  \n",
       "...                                                 ...       ...  \n",
       "9995                [PurpleEyeShadow, StraightHairDark]  0x758353  \n",
       "9996             [Cigarette, CrazyHair, Earring, Smile]  0xA9bFA9  \n",
       "9997                           [CapForward, FrontBeard]  0x944D32  \n",
       "9998     [BlackLipstick, ClownEyesGreen, WildWhiteHair]  0xef764B  \n",
       "9999                              [Mohawk, NerdGlasses]  0x0A383e  \n",
       "\n",
       "[10000 rows x 6 columns]"
      ]
     },
     "execution_count": 386,
     "metadata": {},
     "output_type": "execute_result"
    }
   ],
   "source": [
    "df_punks_traits"
   ]
  },
  {
   "cell_type": "code",
   "execution_count": 381,
   "metadata": {
    "ExecuteTime": {
     "end_time": "2021-09-29T05:15:11.550808Z",
     "start_time": "2021-09-29T05:15:11.365005Z"
    }
   },
   "outputs": [],
   "source": [
    "# Crear archivo csv\n",
    "df_punks_traits.to_csv('df_punks_traits.csv')"
   ]
  },
  {
   "cell_type": "code",
   "execution_count": null,
   "metadata": {},
   "outputs": [],
   "source": []
  },
  {
   "cell_type": "code",
   "execution_count": null,
   "metadata": {
    "ExecuteTime": {
     "end_time": "2021-09-28T06:46:47.290328Z",
     "start_time": "2021-09-28T06:46:47.277329Z"
    }
   },
   "outputs": [],
   "source": [
    "# IGNORE\n",
    "\n",
    "# Colectar transacciones a partir de la tabla en Larva Labs\n",
    "\n",
    "#url_historic_sales = 'https://www.larvalabs.com/cryptopunks/sales'\n",
    "\n",
    "# Create driver to comunicate between Pyhton and the browser\n",
    "#driver = Edge('C:\\Program Files (x86)\\Microsoft\\Edge\\Application\\MSEdgeDriver.exe')\n",
    "\n",
    "# Access web\n",
    "#driver.get(url_historic_sales)\n",
    "\n",
    "\n",
    "#punks_references = driver.find_element_by_xpath('/html/body/div[2]/div[1]/div/div/div').find_elements_by_tag_name('a')\n",
    "#punks_sales_info = driver.find_element_by_xpath('/html/body/div[2]/div[1]/div/div/div').find_elements_by_class_name('text-center.w-100.punk-image-text-dense')\n",
    "\n",
    "#dict_sales = {'Punk':[], 'Sale Price ETH':[], 'Sale Price Dolars':[], 'Last Negociation':[]}\n",
    "\n",
    "#count = 1\n",
    "\n",
    "#while True:\n",
    "#    print(f'Scraping page {driver.current_url[-1]}...')\n",
    "#    sleep(3)\n",
    "#    punks_references = driver.find_element_by_xpath('/html/body/div[2]/div[1]/div/div/div').find_elements_by_tag_name('a')\n",
    "#    punks_sales_info = driver.find_element_by_xpath('/html/body/div[2]/div[1]/div/div/div').find_elements_by_class_name('text-center.w-100.punk-image-text-dense')\n",
    "#    for n in range(0, len(punks_references)):\n",
    "#        dict_sales['Punk'].append(punks_references[n].get_attribute('title'))\n",
    "#        dict_sales['Sale Price ETH'].append(punks_sales_info[n].text.split('\\n')[0])\n",
    "#        dict_sales['Sale Price Dolars'].append(punks_sales_info[n].text.split('\\n')[1])\n",
    "#        dict_sales['Last Negociation'].append(punks_sales_info[n].text.split('\\n')[2])    \n",
    "#    if count == 1:\n",
    "#        driver.find_element_by_xpath('/html/body/div[2]/div[1]/div/p/a').click()\n",
    "#    else:\n",
    "#        driver.find_element_by_xpath('/html/body/div[2]/div[1]/div/p/a[2]').click()\n",
    "#    count += 1\n",
    "#    print('Last Page Reached.')"
   ]
  }
 ],
 "metadata": {
  "hide_input": false,
  "kernelspec": {
   "display_name": "Python 3",
   "language": "python",
   "name": "python3"
  },
  "language_info": {
   "codemirror_mode": {
    "name": "ipython",
    "version": 3
   },
   "file_extension": ".py",
   "mimetype": "text/x-python",
   "name": "python",
   "nbconvert_exporter": "python",
   "pygments_lexer": "ipython3",
   "version": "3.8.5"
  }
 },
 "nbformat": 4,
 "nbformat_minor": 4
}
